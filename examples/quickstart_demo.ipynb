{
 "cells": [
  {
   "cell_type": "code",
   "execution_count": 1,
   "metadata": {},
   "outputs": [],
   "source": [
    "import pymust, tqdm\n",
    "import numpy as np, matplotlib.pyplot as plt"
   ]
  },
  {
   "attachments": {},
   "cell_type": "markdown",
   "metadata": {},
   "source": [
    "# A QUICK START DEMO - simulations, demodulation, beamforming, compounding\n",
    "\n",
    "In this quick'n easy tutorial, it is shown how to simulate an ultrasound image from the transmit of plane waves. A few scatterers will be insonified with steered planes waves to obtain a compound image. You will use the following fundamental steps:\n",
    "\n",
    " 1.   A transducer will be chosen with GETPARAM,\n",
    "1. Transmit delays will be designed with TXDELAY\n",
    "1.    A pressure field will be calculated with PFIELD\n",
    "1.   RF signals will be simulated with the function SIMUS.\n",
    "1.   The RF signals will be I/Q demodulated with RF2IQ,\n",
    "1.    then beamformed with DAS.\n",
    "1.    A compound image will eventually be generated."
   ]
  },
  {
   "attachments": {},
   "cell_type": "markdown",
   "metadata": {},
   "source": [
    "## Scatterers\n",
    "Define a few scatterers with their reflective coefficients"
   ]
  },
  {
   "cell_type": "code",
   "execution_count": 2,
   "metadata": {},
   "outputs": [],
   "source": [
    "xs = np.array([1.7, 1.3, 0.7, 0, -0.7, -1.3, -1.7, 0, -1, 1])*1e-2;  # in m\n",
    "zs = np.array([2.8, 3.2, 3.5, 3.6, 3.5, 3.2, 2.8, 2, 0.8, 0.8])*1e-2 # in m\n",
    "RC = np.ones(xs.shape)"
   ]
  },
  {
   "attachments": {},
   "cell_type": "markdown",
   "metadata": {},
   "source": [
    "## Select a transducer with GETPARAM\n",
    "\n",
    "We want a 128-element linear array."
   ]
  },
  {
   "cell_type": "code",
   "execution_count": 3,
   "metadata": {},
   "outputs": [],
   "source": [
    "param = pymust.getparam('L11-5v')"
   ]
  },
  {
   "cell_type": "code",
   "execution_count": null,
   "metadata": {},
   "outputs": [],
   "source": []
  },
  {
   "attachments": {},
   "cell_type": "markdown",
   "metadata": {},
   "source": [
    "The structure param contains the tranducer properties."
   ]
  },
  {
   "attachments": {},
   "cell_type": "markdown",
   "metadata": {},
   "source": [
    "## Design the transmit delays with TXDELAY\n",
    "\n",
    "The scatterers will be insonified with 21 plane waves steered at -10 to +10 degrees. Use TXDELAY to calculate the transmit delays for the 21 plane waves.\n"
   ]
  },
  {
   "cell_type": "code",
   "execution_count": 4,
   "metadata": {},
   "outputs": [],
   "source": [
    "tilt = np.linspace(-10,10,21)/180*np.pi; # tilt angles in rad\n",
    "tilt = [0]\n",
    "txdel = np.array([pymust.txdelay(param, t) for t in tilt])"
   ]
  },
  {
   "cell_type": "code",
   "execution_count": 5,
   "metadata": {},
   "outputs": [
    {
     "data": {
      "text/plain": [
       "(1, 1, 128)"
      ]
     },
     "execution_count": 5,
     "metadata": {},
     "output_type": "execute_result"
    }
   ],
   "source": [
    "txdel.shape"
   ]
  },
  {
   "attachments": {},
   "cell_type": "markdown",
   "metadata": {},
   "source": [
    "# Check a pressure field with PFIELD\n",
    "\n",
    "Let us visualize the 5th pressure field.\n",
    "\n",
    "Define a 100 $\\times$ 100 8-cm-by-8-cm grid."
   ]
  },
  {
   "cell_type": "code",
   "execution_count": 6,
   "metadata": {},
   "outputs": [],
   "source": [
    "x_extent = np.linspace(-4e-2,4e-2,100)\n",
    "y_extent = np.linspace(0,8e-2,100)\n",
    "xi,zi = np.meshgrid(x_extent, y_extent);"
   ]
  },
  {
   "attachments": {},
   "cell_type": "markdown",
   "metadata": {},
   "source": [
    "We will consider elevation focusing. We thus also need y-coordinates to force the use of the 3-D acoustic equations. Here, they are all 0."
   ]
  },
  {
   "cell_type": "code",
   "execution_count": 7,
   "metadata": {},
   "outputs": [],
   "source": [
    "yi = np.zeros(xi.shape)"
   ]
  },
  {
   "cell_type": "code",
   "execution_count": 61,
   "metadata": {},
   "outputs": [
    {
     "data": {
      "text/plain": [
       "((100, 100), (100, 100), (100, 100))"
      ]
     },
     "execution_count": 61,
     "metadata": {},
     "output_type": "execute_result"
    }
   ],
   "source": [
    "xi.shape,yi.shape,zi.shape"
   ]
  },
  {
   "attachments": {},
   "cell_type": "markdown",
   "metadata": {},
   "source": [
    "Simulate the pressure field.\n"
   ]
  },
  {
   "cell_type": "code",
   "execution_count": 63,
   "metadata": {},
   "outputs": [
    {
     "name": "stderr",
     "output_type": "stream",
     "text": [
      "100%|██████████| 10000/10000 [02:42<00:00, 61.54it/s]\n"
     ]
    }
   ],
   "source": [
    "average_function_by_i = [None] * 10\n",
    "average_function_by_i[1] = lambda X: (X[...,0])/1\n",
    "average_function_by_i[2] = lambda X: (X[...,0]+X[...,1])/2\n",
    "average_function_by_i[3] = lambda X: (X[...,0]+X[...,1]+X[...,2])/3\n",
    "average_function_by_i[4] = lambda X: (X[...,0]+X[...,1]+X[...,2]+X[...,3])/4\n",
    "average_function_by_i[5] = lambda X: (X[...,0]+X[...,1]+X[...,2]+X[...,3]+X[...,4])/5\n",
    "average_function_by_i[6] = lambda X: (X[...,0]+X[...,1]+X[...,2]+X[...,3]+X[...,4]+X[...,5])/6\n",
    "average_function_by_i[7] = lambda X: (X[...,0]+X[...,1]+X[...,2]+X[...,3]+X[...,4]+X[...,5]+X[...,6])/7\n",
    "average_function_by_i[8] = lambda X: (X[...,0]+X[...,1]+X[...,2]+X[...,3]+X[...,4]+X[...,5]+X[...,6]+X[...,7])/8\n",
    "average_function_by_i[9] = lambda X: (X[...,0]+X[...,1]+X[...,2]+X[...,3]+X[...,4]+X[...,5]+X[...,6]+X[...,7]+X[...,8])/9\n",
    "\n",
    "\n",
    "def average_over_last_axis(X):\n",
    "    if X.shape[-1] < len(average_function_by_i):\n",
    "        return average_function_by_i[X.shape[-1] ](X)\n",
    "    else:\n",
    "        return np.mean(X, axis = -1)\n",
    "    \n",
    "MoyenneSousElemPiezo = average_over_last_axis\n",
    "\n",
    "def pfield(x : np.ndarray,y : np.ndarray,z : np.ndarray,DelaiEmissionElemPiezo  : np.ndarray,param):\n",
    "    FrequencyStep = 1 # coef de diffusion\n",
    "    RP = 0 # RP = Radiation Pattern\n",
    "    # RP = np.zero((-1,param.Nelements, delaysTX.shape[0] )) \n",
    "    RadiusOfCurvature = param.radius\n",
    "    c = 1540 # % default value of sound speed\n",
    "    OriginalShape = x.shape\n",
    "\n",
    "    # FREQUENCY SAMPLES\n",
    "    # param.fc = central frequency (Hz)\n",
    "    Nf = int( 2* np.ceil( param.fc )+1) # number of frequency samples\n",
    "    Nf = 10000\n",
    "    f = np.linspace(0,2*param.fc,Nf) # frequency samples\n",
    "    nSampling = len(f)\n",
    "\n",
    "    # Position des elements de la sonde\n",
    "    # THe = angle of the normal to element with respect to the z-axis\n",
    "    ElementWidth = param.width\n",
    "    NumberOfElements = param.Nelements\n",
    "    PositionsCentresElemPiezo_x, PositionsCentresElemPiezo_z, AngleNormalElemPiezo, _ = param.getElementPositions()\n",
    "    # AngleNormalElemPiezo = 0\n",
    "    PositionsCentresElemPiezo_x = PositionsCentresElemPiezo_x.reshape((1,NumberOfElements,1))\n",
    "    PositionsCentresElemPiezo_z = PositionsCentresElemPiezo_z.reshape((1,NumberOfElements,1))\n",
    "\n",
    "    ResolutionSpatiale = c/(param.fc*(1+param.bandwidth/200))\n",
    "\n",
    "    NbSousElemPiezo = int(np.ceil(ElementWidth/ResolutionSpatiale))\n",
    "    #NbSousElemPiezo=1\n",
    "    SizeSousElemPiezo = ElementWidth/NbSousElemPiezo\n",
    "\n",
    "    PositionsCentresSousElemPiezo = -ElementWidth/2 + SizeSousElemPiezo/2 + np.arange(NbSousElemPiezo)*SizeSousElemPiezo\n",
    "    PositionsCentresSousElemPiezo = PositionsCentresSousElemPiezo.reshape((1,1,NbSousElemPiezo)) # une valeur x,z pour chaque SousElemPiezo\n",
    "\n",
    "    PositionsCentresSousElemPiezo_x = PositionsCentresSousElemPiezo*np.cos(AngleNormalElemPiezo)[:,:,np.newaxis]\n",
    "    PositionsCentresSousElemPiezo_z = PositionsCentresSousElemPiezo*np.sin(-AngleNormalElemPiezo)[:,:,np.newaxis]\n",
    "\n",
    "   \n",
    "    #%-- Coordinates of the points where pressure is needed\n",
    "    x = x.reshape((-1,1,1)).astype(np.float32)\n",
    "    y = y.reshape((-1,1,1)).astype(np.float32)\n",
    "    z = z.reshape((-1,1,1)).astype(np.float32)\n",
    "\n",
    "\n",
    "    FreqSweep = param.TXfreqsweep\n",
    "    #%-- FREQUENCY SPECTRUM of the transmitted pulse\n",
    "    pulseSpectrum = param.getPulseSpectrumFunction(FreqSweep)\n",
    "    #%-- FREQUENCY RESPONSE of the ensemble PZT + probe\n",
    "    probeSpectrum = param.getProbeFunction()\n",
    "    pulseSPECT = pulseSpectrum(2*np.pi*f) # pulse spectrum\n",
    "    probeSPECT = probeSpectrum(2*np.pi*f) # probe \n",
    "\n",
    "  \n",
    "    # valeurs de RP pour chaque point de la grille pour chaque sous element piezo de chaque elem de la sonde \n",
    "    dxi = x.reshape((-1,1,1)) - PositionsCentresSousElemPiezo_x - PositionsCentresElemPiezo_x\n",
    "    dzi = z.reshape((-1,1,1)) - PositionsCentresSousElemPiezo_z - PositionsCentresElemPiezo_z\n",
    "    dyi = y.reshape((-1,1,1))\n",
    "    r2 = dxi**2 + dzi**2 + dyi**2 # pythagore 3d\n",
    "\n",
    "    # Pas de limite inferieure de resolution spatiale\n",
    "    # Tout peut etre aussi petit que cenessaire, pas de probleme\n",
    "    # smallD2 = ResolutionSpatiale**2\n",
    "    # d2[d2<smallD2] = smallD2\n",
    "\n",
    "    r = np.sqrt(r2).astype(np.float32) # distance between the segment centroid and the point of interest\n",
    "    # On considere que la frequemce est independente de la direction du signal emis/recu. Ne depend uniquement de la distance (r)\n",
    "    # Th = np.arcsin(dxi/r)-AngleNormalElemPiezo.reshape((1,-1,1))\n",
    "    del r2\n",
    "\n",
    "    # # %-- EXPONENTIAL arrays of size [numel(x) NumberOfElements M]\n",
    "    wavenumber = 2*np.pi*f[0]/c # % wavenumber\n",
    "    kwa = 0 # % attenuation-based wavenumber; no attenuation -> 0\n",
    "    # EXP = np.exp(-kwa*r + 1j*np.mod(kw*r,2*np.pi)).astype(np.complex64) #; % faster than exp(-kwa*r+1j*kw*r)\n",
    "    EXP = np.exp(-kwa*r+1j*wavenumber*r).astype(np.complex64)\n",
    "\n",
    "    dkw = 2*np.pi*FrequencyStep/c\n",
    "    dkwa = 0\n",
    "    delta_EXP = np.exp(-dkwa*r + 1j*dkw*r).astype(np.complex64)\n",
    "\n",
    "    del r\n",
    "    \n",
    "    for k  in tqdm.tqdm(range(nSampling)):\n",
    "\n",
    "        wavenumber_k = 2*np.pi*f[k]/c #; % wavenumber\n",
    "\n",
    "        EXP = EXP*delta_EXP\n",
    "\n",
    "        ValeurElemPiezo = MoyenneSousElemPiezo(EXP); #% summation over the M small segments\n",
    "        \n",
    "        DelaiEmissionElemPiezo = DelaiEmissionElemPiezo.astype(np.float32)\n",
    "\n",
    "        APOD = 1 # pas d'apodization -> APOD=1\n",
    "        DELAPOD = APOD * np.sum(np.exp(1j*wavenumber_k*c*DelaiEmissionElemPiezo), 0).reshape((-1, 1)) # force (NumberofElements,1)\n",
    "\n",
    "        RPk = np.matmul(ValeurElemPiezo, DELAPOD) #somme des radiation pattern de chaque élément\n",
    "        \n",
    "        RPk = pulseSPECT[k]*probeSPECT[k]*RPk #%- include spectrum responses:\n",
    "\n",
    "        RP += np.abs(RPk)**2\n",
    "\n",
    "\n",
    "    RP = np.sqrt(RP); #% acoustic intensity, RPk est le radiation pattern de chaque élément\n",
    "\n",
    "    CorrectingFactor = FrequencyStep\n",
    "    RP = RP*CorrectingFactor\n",
    "    return RP.reshape(OriginalShape)\n",
    "\n",
    "P = pfield(xi,yi,zi,txdel[0],param);"
   ]
  },
  {
   "cell_type": "code",
   "execution_count": 8,
   "metadata": {},
   "outputs": [],
   "source": [
    "from importlib import reload\n",
    "reload(pymust)\n",
    "P0, _, _ = pymust.pfield(xi,yi,zi,txdel[0],param);\n"
   ]
  },
  {
   "cell_type": "code",
   "execution_count": 69,
   "metadata": {},
   "outputs": [
    {
     "data": {
      "text/plain": [
       "<matplotlib.colorbar.Colorbar at 0x28887bab488>"
      ]
     },
     "execution_count": 69,
     "metadata": {},
     "output_type": "execute_result"
    },
    {
     "data": {
      "image/png": "[encoded data removed]",
      "text/plain": [
       "<Figure size 640x480 with 2 Axes>"
      ]
     },
     "metadata": {},
     "output_type": "display_data"
    }
   ],
   "source": [
    "plt.imshow(20 * np.log10(P0 / np.max(P0)), cmap='hot', extent=[xi[0,0], xi[0, -1], zi[0,0], zi[-1, -1]])\n",
    "plt.colorbar()"
   ]
  },
  {
   "cell_type": "code",
   "execution_count": 64,
   "metadata": {},
   "outputs": [
    {
     "data": {
      "text/plain": [
       "(7193.874, 7371.423)"
      ]
     },
     "execution_count": 64,
     "metadata": {},
     "output_type": "execute_result"
    }
   ],
   "source": [
    "m,M = np.min(P),np.max(P)\n",
    "m,M"
   ]
  },
  {
   "cell_type": "code",
   "execution_count": 65,
   "metadata": {},
   "outputs": [],
   "source": [
    "P2 = (P-m)/(M-m)*255"
   ]
  },
  {
   "attachments": {},
   "cell_type": "markdown",
   "metadata": {},
   "source": [
    "Display the 5th pressure field."
   ]
  },
  {
   "cell_type": "code",
   "execution_count": 66,
   "metadata": {},
   "outputs": [
    {
     "name": "stderr",
     "output_type": "stream",
     "text": [
      "c:\\Users\\tlali\\OneDrive\\Documents\\ProjetS9\\.venv\\lib\\site-packages\\ipykernel_launcher.py:1: RuntimeWarning: divide by zero encountered in log10\n",
      "  \"\"\"Entry point for launching an IPython kernel.\n"
     ]
    },
    {
     "data": {
      "text/plain": [
       "<matplotlib.colorbar.Colorbar at 0x28887b84148>"
      ]
     },
     "execution_count": 66,
     "metadata": {},
     "output_type": "execute_result"
    },
    {
     "data": {
      "image/png": "[encoded data removed]",
      "text/plain": [
       "<Figure size 640x480 with 2 Axes>"
      ]
     },
     "metadata": {},
     "output_type": "display_data"
    }
   ],
   "source": [
    "plt.imshow(20 * np.log10(P2 / np.max(P2)), cmap='hot', extent=[xi[0,0], xi[0, -1], zi[0,0], zi[-1, -1]])\n",
    "plt.colorbar()"
   ]
  },
  {
   "cell_type": "code",
   "execution_count": 67,
   "metadata": {},
   "outputs": [
    {
     "data": {
      "text/plain": [
       "<matplotlib.colorbar.Colorbar at 0x28887d83b48>"
      ]
     },
     "execution_count": 67,
     "metadata": {},
     "output_type": "execute_result"
    },
    {
     "data": {
      "image/png": "[encoded data removed]",
      "text/plain": [
       "<Figure size 640x480 with 2 Axes>"
      ]
     },
     "metadata": {},
     "output_type": "display_data"
    }
   ],
   "source": [
    "plt.imshow(20 * np.log10(P / np.max(P)), cmap='hot', extent=[xi[0,0], xi[0, -1], zi[0,0], zi[-1, -1]])\n",
    "plt.colorbar()"
   ]
  },
  {
   "attachments": {},
   "cell_type": "markdown",
   "metadata": {},
   "source": [
    "# Simulate RF signals with SIMUS\n",
    "\n",
    "We will now simulate 21 series of RF signals. Each series will contain 128 RF signals, as the simulated linear array contains 128 elements."
   ]
  },
  {
   "cell_type": "code",
   "execution_count": null,
   "metadata": {},
   "outputs": [],
   "source": [
    "RF = [] # this array will contain the RF series\n",
    "param.fs = 4*param.fc; # sampling frequency in Hz\n",
    "for k,t in tqdm.tqdm(enumerate(txdel)):\n",
    "    r, _ = pymust.simus(xs,zs,RC,t, param)\n",
    "    RF.append(r)\n"
   ]
  },
  {
   "attachments": {},
   "cell_type": "markdown",
   "metadata": {},
   "source": [
    "This is the 64th RF signal of the 1st series:"
   ]
  },
  {
   "cell_type": "code",
   "execution_count": null,
   "metadata": {},
   "outputs": [],
   "source": [
    "rf = RF[0][:,63]\n",
    "t = np.arange(len(rf))/param.fs*1e6 #% time (ms)\n",
    "plt.plot(t,rf)\n",
    "plt.xlabel('time ($\\mu$s)')\n",
    "plt.title('RF signal of the $64^{th}$ element ($1^{st}$ series, tilt = $-20{\\circ}$)')\n"
   ]
  },
  {
   "attachments": {},
   "cell_type": "markdown",
   "metadata": {},
   "source": [
    "## Demodulate the RF signals with RF2IQ\n",
    "\n",
    "Before beamforming, the RF signals must be I/Q demodulated."
   ]
  },
  {
   "cell_type": "code",
   "execution_count": null,
   "metadata": {},
   "outputs": [],
   "source": [
    "IQ = [] #  % this cell will contain the I/Q series\n",
    "\n",
    "for r in RF:\n",
    "    IQ.append(pymust.rf2iq(r,param.fs,param.fc))\n"
   ]
  },
  {
   "cell_type": "code",
   "execution_count": null,
   "metadata": {},
   "outputs": [],
   "source": [
    "iq = IQ[0][:,63];\n",
    "plt.plot(t,np.real(iq), label = 'in-phase')\n",
    "plt.plot(t,np.imag(iq), label = 'quadrature')\n",
    "plt.xlabel('time (\\mus)')\n",
    "plt.title('I/Q signal of the 64^{th} element (1^{st} series, tilt = -10{\\circ})')\n",
    "plt.legend()\n"
   ]
  },
  {
   "attachments": {},
   "cell_type": "markdown",
   "metadata": {},
   "source": [
    "## Beamform the I/Q signals with DAS\n",
    "\n",
    "It is recommended to use an adequate receive f-number when beamforming. Define a void f-number; it will be determined automatically by DAS from the element directivity."
   ]
  },
  {
   "attachments": {},
   "cell_type": "markdown",
   "metadata": {},
   "source": [
    "Define a 200 $\\times$ 200 4-cm-by-4-cm image grid."
   ]
  },
  {
   "cell_type": "code",
   "execution_count": null,
   "metadata": {},
   "outputs": [],
   "source": [
    "x_extent = np.linspace(-2e-2,2e-2,200)\n",
    "z_extent = np.linspace(0,4e-2,200)\n",
    "PositionsCentresSousElemPiezo_x,PositionsCentresElemPiezo_z = np.meshgrid(x_extent, z_extent)"
   ]
  },
  {
   "cell_type": "code",
   "execution_count": null,
   "metadata": {},
   "outputs": [],
   "source": [
    "p = param.copy()\n"
   ]
  },
  {
   "cell_type": "code",
   "execution_count": null,
   "metadata": {},
   "outputs": [],
   "source": [
    "pymust.dasmtx(IQ[k], PositionsCentresSousElemPiezo_x,PositionsCentresElemPiezo_z, p)"
   ]
  },
  {
   "cell_type": "code",
   "execution_count": null,
   "metadata": {},
   "outputs": [],
   "source": [
    "bIQ = np.zeros((*PositionsCentresSousElemPiezo_x.shape, len(txdel)), dtype = np.complex64)  #% this array will contain the 21 I/Q images\n",
    "\n",
    "for k, t in enumerate(txdel):\n",
    "    param.TXdelay = t\n",
    "    q = (pymust.dasmtx(IQ[k], PositionsCentresSousElemPiezo_x,PositionsCentresElemPiezo_z, param) @ IQ[k].flatten(order = 'F')).reshape(PositionsCentresSousElemPiezo_x.shape,order = 'F')\n",
    "    bIQ[:,:,k] = q\n"
   ]
  },
  {
   "attachments": {},
   "cell_type": "markdown",
   "metadata": {},
   "source": [
    "## Compound ultrasound image\n",
    "\n",
    "An ultrasound image is obtained by log-compressing the amplitude of the beamformed I/Q signals. Have a look at the images obtained when steering at -10 degrees."
   ]
  },
  {
   "cell_type": "code",
   "execution_count": null,
   "metadata": {},
   "outputs": [],
   "source": [
    "I = pymust.bmode(bIQ[:,:,0],40) # log-compressed image\n",
    "plt.imshow(I, cmap = 'gray', extent = [PositionsCentresSousElemPiezo_x[0,0], PositionsCentresSousElemPiezo_x[0,-1], PositionsCentresElemPiezo_z[0,0], PositionsCentresElemPiezo_z[-1,-1]])\n",
    "plt.title('PW-based echo image with a tilt angle of -10{\\circ}')\n",
    "plt.axis('equal')\n",
    "plt.ylabel('[cm]')\n",
    "plt.colorbar()\n"
   ]
  },
  {
   "attachments": {},
   "cell_type": "markdown",
   "metadata": {},
   "source": [
    "The individual images are of poor quality. Generate a compound image with the series of 21 diverging waves steered at different angles."
   ]
  },
  {
   "cell_type": "code",
   "execution_count": null,
   "metadata": {},
   "outputs": [],
   "source": [
    "cIQ = np.sum(bIQ,2) # this is the compound beamformed I/Q\n",
    "I = pymust.bmode(cIQ,40); #log-compressed image\n",
    "plt.imshow(I, cmap = 'gray', extent = [PositionsCentresSousElemPiezo_x[0,0], PositionsCentresSousElemPiezo_x[0,-1], PositionsCentresElemPiezo_z[0,0], PositionsCentresElemPiezo_z[-1,-1]])\n",
    "plt.colorbar()\n",
    "#plt.clim(-40,0)\n",
    "plt.axis('equal')\n",
    "plt.ylabel('[cm]')\n",
    "plt.title('Compound PW-based echo image')\n"
   ]
  },
  {
   "cell_type": "markdown",
   "metadata": {},
   "source": [
    "# MKmovie\n",
    "\n",
    "Test creating a movie using the mkmovie function\n",
    "\n",
    "*Note G.Bernardino, TODO:* this is considerably slower than the matlab version. Investigate why"
   ]
  },
  {
   "cell_type": "code",
   "execution_count": null,
   "metadata": {},
   "outputs": [],
   "source": [
    "param.attenuation = 0.0\n",
    "txdel_0 = np.zeros((1,param.Nelements))\n",
    "opt = pymust.utils.Options()\n",
    "opt.plotScatterers = True\n",
    "F,info, param = pymust.mkmovie(xs, zs, RC,txdel_0,param, opt, 'noAttenuation.gif');"
   ]
  },
  {
   "cell_type": "code",
   "execution_count": null,
   "metadata": {},
   "outputs": [],
   "source": [
    "opt"
   ]
  },
  {
   "cell_type": "code",
   "execution_count": null,
   "metadata": {},
   "outputs": [],
   "source": [
    "param.attenuation = 0.5\n",
    "txdel_0 = np.zeros((1,param.Nelements))\n",
    "F,info, param = pymust.mkmovie(xs, zs, RC,txdel_0,param, 'attenuation.gif');"
   ]
  }
 ],
 "metadata": {
  "kernelspec": {
   "display_name": ".venv",
   "language": "python",
   "name": "python3"
  },
  "language_info": {
   "codemirror_mode": {
    "name": "ipython",
    "version": 3
   },
   "file_extension": ".py",
   "mimetype": "text/x-python",
   "name": "python",
   "nbconvert_exporter": "python",
   "pygments_lexer": "ipython3",
   "version": "3.7.8"
  },
  "orig_nbformat": 4
 },
 "nbformat": 4,
 "nbformat_minor": 2
}
