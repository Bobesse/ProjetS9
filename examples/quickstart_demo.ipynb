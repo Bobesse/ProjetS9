{
 "cells": [
  {
   "cell_type": "code",
   "execution_count": 1,
   "metadata": {},
   "outputs": [],
   "source": [
    "import pymust, tqdm\n",
    "import numpy as np, matplotlib.pyplot as plt"
   ]
  },
  {
   "attachments": {},
   "cell_type": "markdown",
   "metadata": {},
   "source": [
    "# A QUICK START DEMO - simulations, demodulation, beamforming, compounding\n",
    "\n",
    "In this quick'n easy tutorial, it is shown how to simulate an ultrasound image from the transmit of plane waves. A few scatterers will be insonified with steered planes waves to obtain a compound image. You will use the following fundamental steps:\n",
    "\n",
    " 1.   A transducer will be chosen with GETPARAM,\n",
    "1. Transmit delays will be designed with TXDELAY\n",
    "1.    A pressure field will be calculated with PFIELD\n",
    "1.   RF signals will be simulated with the function SIMUS.\n",
    "1.   The RF signals will be I/Q demodulated with RF2IQ,\n",
    "1.    then beamformed with DAS.\n",
    "1.    A compound image will eventually be generated."
   ]
  },
  {
   "attachments": {},
   "cell_type": "markdown",
   "metadata": {},
   "source": [
    "## Scatterers\n",
    "Define a few scatterers with their reflective coefficients"
   ]
  },
  {
   "cell_type": "code",
   "execution_count": 2,
   "metadata": {},
   "outputs": [],
   "source": [
    "xs = np.array([1.7, 1.3, 0.7, 0, -0.7, -1.3, -1.7, 0, -1, 1])*1e-2;  # in m\n",
    "zs = np.array([2.8, 3.2, 3.5, 3.6, 3.5, 3.2, 2.8, 2, 0.8, 0.8])*1e-2 # in m\n",
    "RC = np.ones(xs.shape)"
   ]
  },
  {
   "attachments": {},
   "cell_type": "markdown",
   "metadata": {},
   "source": [
    "## Select a transducer with GETPARAM\n",
    "\n",
    "We want a 128-element linear array."
   ]
  },
  {
   "cell_type": "code",
   "execution_count": 3,
   "metadata": {},
   "outputs": [],
   "source": [
    "param = pymust.getparam('L11-5v')"
   ]
  },
  {
   "cell_type": "code",
   "execution_count": null,
   "metadata": {},
   "outputs": [],
   "source": []
  },
  {
   "attachments": {},
   "cell_type": "markdown",
   "metadata": {},
   "source": [
    "The structure param contains the tranducer properties."
   ]
  },
  {
   "attachments": {},
   "cell_type": "markdown",
   "metadata": {},
   "source": [
    "## Design the transmit delays with TXDELAY\n",
    "\n",
    "The scatterers will be insonified with 21 plane waves steered at -10 to +10 degrees. Use TXDELAY to calculate the transmit delays for the 21 plane waves.\n"
   ]
  },
  {
   "cell_type": "code",
   "execution_count": 4,
   "metadata": {},
   "outputs": [],
   "source": [
    "tilt = np.linspace(-10,10,21)/180*np.pi; # tilt angles in rad\n",
    "txdel = []\n",
    "for t in tilt:\n",
    "    txdel.append(pymust.txdelay(param, t))\n",
    "txdel = np.array(txdel)"
   ]
  },
  {
   "attachments": {},
   "cell_type": "markdown",
   "metadata": {},
   "source": [
    "# Check a pressure field with PFIELD\n",
    "\n",
    "Let us visualize the 5th pressure field.\n",
    "\n",
    "Define a 100 $\\times$ 100 8-cm-by-8-cm grid."
   ]
  },
  {
   "cell_type": "code",
   "execution_count": 5,
   "metadata": {},
   "outputs": [],
   "source": [
    "x_extent = np.linspace(-4e-2,4e-2,100)\n",
    "y_extent = np.linspace(0,8e-2,100)\n",
    "xi,zi = np.meshgrid(x_extent, y_extent);"
   ]
  },
  {
   "attachments": {},
   "cell_type": "markdown",
   "metadata": {},
   "source": [
    "We will consider elevation focusing. We thus also need y-coordinates to force the use of the 3-D acoustic equations. Here, they are all 0."
   ]
  },
  {
   "cell_type": "code",
   "execution_count": 6,
   "metadata": {},
   "outputs": [],
   "source": [
    "yi = np.zeros(xi.shape)"
   ]
  },
  {
   "attachments": {},
   "cell_type": "markdown",
   "metadata": {},
   "source": [
    "Simulate the pressure field.\n"
   ]
  },
  {
   "cell_type": "code",
   "execution_count": 7,
   "metadata": {},
   "outputs": [
    {
     "name": "stdout",
     "output_type": "stream",
     "text": [
      "(100, 100)\n"
     ]
    }
   ],
   "source": [
    "print(np.shape(xi))"
   ]
  },
  {
   "cell_type": "code",
   "execution_count": 17,
   "metadata": {},
   "outputs": [
    {
     "name": "stdout",
     "output_type": "stream",
     "text": [
      "(10000, 128)\n",
      "(10000, 128, 2)\n"
     ]
    },
    {
     "ename": "ValueError",
     "evalue": "operands could not be broadcast together with shapes (10000,128) (10000,128,2) ",
     "output_type": "error",
     "traceback": [
      "\u001b[1;31m---------------------------------------------------------------------------\u001b[0m",
      "\u001b[1;31mValueError\u001b[0m                                Traceback (most recent call last)",
      "Cell \u001b[1;32mIn[17], line 119\u001b[0m\n\u001b[0;32m    116\u001b[0m         RP \u001b[38;5;241m=\u001b[39m RP\u001b[38;5;241m*\u001b[39mCorFac\n\u001b[0;32m    117\u001b[0m     \u001b[38;5;28;01mreturn\u001b[39;00m RP\n\u001b[1;32m--> 119\u001b[0m P \u001b[38;5;241m=\u001b[39m \u001b[43mpfield\u001b[49m\u001b[43m(\u001b[49m\u001b[43mxi\u001b[49m\u001b[43m,\u001b[49m\u001b[43myi\u001b[49m\u001b[43m,\u001b[49m\u001b[43mzi\u001b[49m\u001b[43m,\u001b[49m\u001b[43mtxdel\u001b[49m\u001b[43m[\u001b[49m\u001b[38;5;241;43m4\u001b[39;49m\u001b[43m]\u001b[49m\u001b[43m,\u001b[49m\u001b[43mparam\u001b[49m\u001b[43m)\u001b[49m;\n",
      "Cell \u001b[1;32mIn[17], line 92\u001b[0m, in \u001b[0;36mpfield\u001b[1;34m(x, y, z, delaysTX, param)\u001b[0m\n\u001b[0;32m     90\u001b[0m \u001b[38;5;28mprint\u001b[39m(np\u001b[38;5;241m.\u001b[39mshape(RPmono))\n\u001b[0;32m     91\u001b[0m \u001b[38;5;28mprint\u001b[39m(np\u001b[38;5;241m.\u001b[39mshape(EXPdf))\n\u001b[1;32m---> 92\u001b[0m RPmono \u001b[38;5;241m=\u001b[39m \u001b[43mRPmono\u001b[49m\u001b[38;5;241;43m*\u001b[39;49m\u001b[43mEXPdf\u001b[49m\n\u001b[0;32m     94\u001b[0m \u001b[38;5;66;03m#delaysTX  should be a row vector\u001b[39;00m\n\u001b[0;32m     95\u001b[0m \u001b[38;5;28;01mif\u001b[39;00m \u001b[38;5;28mlen\u001b[39m(delaysTX\u001b[38;5;241m.\u001b[39mshape) \u001b[38;5;241m==\u001b[39m \u001b[38;5;241m1\u001b[39m:\n",
      "\u001b[1;31mValueError\u001b[0m: operands could not be broadcast together with shapes (10000,128) (10000,128,2) "
     ]
    }
   ],
   "source": [
    "average_function_by_i = [None] * 10\n",
    "average_function_by_i[1] = lambda X: (X[...,0])/1\n",
    "average_function_by_i[2] = lambda X: (X[...,0]+X[...,1])/2\n",
    "average_function_by_i[3] = lambda X: (X[...,0]+X[...,1]+X[...,2])/3\n",
    "average_function_by_i[4] = lambda X: (X[...,0]+X[...,1]+X[...,2]+X[...,3])/4\n",
    "average_function_by_i[5] = lambda X: (X[...,0]+X[...,1]+X[...,2]+X[...,3]+X[...,4])/5\n",
    "average_function_by_i[6] = lambda X: (X[...,0]+X[...,1]+X[...,2]+X[...,3]+X[...,4]+X[...,5])/6\n",
    "average_function_by_i[7] = lambda X: (X[...,0]+X[...,1]+X[...,2]+X[...,3]+X[...,4]+X[...,5]+X[...,6])/7\n",
    "average_function_by_i[8] = lambda X: (X[...,0]+X[...,1]+X[...,2]+X[...,3]+X[...,4]+X[...,5]+X[...,6]+X[...,7])/8\n",
    "average_function_by_i[9] = lambda X: (X[...,0]+X[...,1]+X[...,2]+X[...,3]+X[...,4]+X[...,5]+X[...,6]+X[...,7]+X[...,8])/9\n",
    "\n",
    "\n",
    "def average_over_last_axis(X):\n",
    "    if X.shape[-1] < len(average_function_by_i):\n",
    "        return average_function_by_i[X.shape[-1] ](X)\n",
    "    else:\n",
    "        return np.mean(X, axis = -1)\n",
    "\n",
    "def pfield(x : np.ndarray,y : np.ndarray,z : np.ndarray,delaysTX  : np.ndarray,param):\n",
    "    df = 1\n",
    "    RP = 0 # % RP = Radiation Pattern\n",
    "    #% Null pressure will be assigned to out-of-field points.\n",
    "    isOUT = z<0\n",
    "    RadiusOfCurvature = param.radius\n",
    "    if np.isfinite(RadiusOfCurvature):\n",
    "        isOUT = np.logical_or(isOUT, (x**2+(z+h)**2) <=RadiusOfCurvature**2)\n",
    "    isOUT = isOUT.reshape((-1,1))\n",
    "    NoW = 1\n",
    "    c = 1540 # % default value of sound speed\n",
    "    alpha_dB = 0\n",
    "    #%-- FREQUENCY SAMPLES\n",
    "    Nf = int(2*np.ceil(param.fc/df)+1) # number of frequency samples\n",
    "    f = np.linspace(0,2*param.fc,Nf) # frequency samples\n",
    "    nSampling = len(f)\n",
    "    fc = param.fc # central frequency (Hz)\n",
    "    xe, ze, THe, h = param.getElementPositions()\n",
    "    ElementWidth = param.width\n",
    "    NumberOfElements = param.Nelements\n",
    "\n",
    "    LambdaMin = c/(fc*(1+param.bandwidth/200))\n",
    "    M = int(np.ceil(ElementWidth/LambdaMin))\n",
    "    SegLength = ElementWidth/M\n",
    "    tmp = -ElementWidth/2 + SegLength/2 + np.arange(M)*SegLength\n",
    "    xi = tmp.reshape((1,1,M))*np.cos(THe)[:,:,np.newaxis]\n",
    "    zi = tmp.reshape((1,1,M))*np.sin(-THe)[:,:,np.newaxis]\n",
    "\n",
    "   \n",
    "    #%-- Coordinates of the points where pressure is needed\n",
    "    x = x.reshape((-1,1))\n",
    "    #xi = xi.reshape((-1,1))\n",
    "    y = y.reshape((-1,1)) # Check if y is empty\n",
    "    z = z.reshape((-1,1))\n",
    "    #zi = zi.reshape((-1,1))\n",
    "\n",
    "    #% cast x, y, and z to single class\n",
    "    x = x.astype(np.float32)\n",
    "    y = y.astype(np.float32)\n",
    "    z = z.astype(np.float32)\n",
    "\n",
    "    FreqSweep = param.TXfreqsweep\n",
    "    #%-- FREQUENCY SPECTRUM of the transmitted pulse\n",
    "    pulseSpectrum = param.getPulseSpectrumFunction(FreqSweep)\n",
    "    #%-- FREQUENCY RESPONSE of the ensemble PZT + probe\n",
    "    probeSpectrum = param.getProbeFunction()\n",
    "    pulseSPECT = pulseSpectrum(2*np.pi*f) # pulse spectrum\n",
    "    probeSPECT = probeSpectrum(2*np.pi*f) # probe \n",
    "\n",
    "    #% Note: r = distance between the segment centroid and the point of interest\n",
    "    smallD2 = (c/fc/4)**2\n",
    "    dxi = x.reshape((-1,1,1))-xi-xe.reshape((1, -1, 1))\n",
    "    d2 = dxi**2+(z.reshape((-1,1,1))-zi-ze.reshape((1, -1, 1)))**2\n",
    "    d2[d2<smallD2] = smallD2\n",
    "\n",
    "    r = np.sqrt(d2+y.reshape((-1,1,1))**2).astype(np.float32)\n",
    "    Th = np.arcsin(dxi/np.sqrt(d2))-THe.reshape((1,-1,1))\n",
    "\n",
    "    # %-- EXPONENTIAL arrays of size [numel(x) NumberOfElements M]\n",
    "    kw = 2*np.pi*f[0]/c # % wavenumber\n",
    "    kwa = alpha_dB/8.69*f[0]/1e6*1e2 # % attenuation-based wavenumber\n",
    "    EXP = np.exp(-kwa*r + 1j*np.mod(kw*r,2*np.pi)).astype(np.complex64) #; % faster than exp(-kwa*r+1j*kw*r)\n",
    "\n",
    "    \n",
    "    for k  in range(nSampling):\n",
    "        dkw = 2*np.pi*df/c\n",
    "        dkwa = alpha_dB/8.69*df/1e6*1e2\n",
    "        EXPdf = np.exp((-dkwa + 1j*dkw)*r).astype(np.complex64)\n",
    "\n",
    "        kw = 2*np.pi*f[k]/c #; % wavenumber\n",
    "        RPmono = average_over_last_axis(EXP); #% summation over the M small segments\n",
    "        print(np.shape(RPmono))\n",
    "        print(np.shape(EXPdf))\n",
    "        RPmono = RPmono*EXPdf\n",
    "        \n",
    "        #delaysTX  should be a row vector\n",
    "        if len(delaysTX.shape) == 1:\n",
    "            delaysTX = delaysTX.reshape((1, -1))\n",
    "        delaysTX = delaysTX.astype(np.float32)\n",
    "        #% apodization is 0 where TX delays are NaN:\n",
    "        param.TXapodization = np.ones((1,NumberOfElements), dtype = np.float32)\n",
    "        idx = np.isnan(delaysTX)\n",
    "        param.TXapodization[0, np.any(idx, axis = 0)]= 0\n",
    "        delaysTX[idx] = 0\n",
    "\n",
    "        #%-- TX apodization\n",
    "        APOD = param.TXapodization.flatten()\n",
    "        DELAPOD = np.sum(np.exp(1j*kw*c*delaysTX), 0) *APOD #somme des séries de \n",
    "\n",
    "        RPmono = RPmono.reshape((RPmono.shape[0],RPmono.shape[1])) \n",
    "        DELAPOD = DELAPOD.reshape((-1, 1))\n",
    "\n",
    "        RPk = RPmono@DELAPOD #somme des radiation pattern de chaque élément\n",
    "        RPk = pulseSPECT[k]*probeSPECT[k]*RPk #inclu le spectre de \n",
    "        RPk[isOUT] = 0 #met à 0 les éléments de RPk qui sont \"isOUT\"\n",
    "        RP = RP + abs(RPk)**2; #% acoustic intensity, RPk est le radiation pattern de chaque élément\n",
    "        CorFac = df #normalement Corfac = df mais, df vaut 1 par défaut, df correspond au frequency step\n",
    "        RP = RP*CorFac\n",
    "    return RP\n",
    "\n",
    "P = pfield(xi,yi,zi,txdel[4],param);"
   ]
  },
  {
   "cell_type": "code",
   "execution_count": null,
   "metadata": {},
   "outputs": [],
   "source": [
    "P, _, _ = pymust.pfield(xi,yi,zi,txdel[4],param);\n"
   ]
  },
  {
   "attachments": {},
   "cell_type": "markdown",
   "metadata": {},
   "source": [
    "Display the 5th pressure field."
   ]
  },
  {
   "cell_type": "code",
   "execution_count": null,
   "metadata": {},
   "outputs": [],
   "source": [
    "plt.imshow(20 * np.log10(P / np.max(P)), cmap='hot', extent=[xi[0,0], xi[0, -1], zi[0,0], zi[-1, -1]])\n",
    "plt.colorbar()\n",
    "plt.clim(-30, 0)"
   ]
  },
  {
   "attachments": {},
   "cell_type": "markdown",
   "metadata": {},
   "source": [
    "# Simulate RF signals with SIMUS\n",
    "\n",
    "We will now simulate 21 series of RF signals. Each series will contain 128 RF signals, as the simulated linear array contains 128 elements."
   ]
  },
  {
   "cell_type": "code",
   "execution_count": null,
   "metadata": {},
   "outputs": [],
   "source": [
    "RF = [] # this array will contain the RF series\n",
    "param.fs = 4*param.fc; # sampling frequency in Hz\n",
    "for k,t in tqdm.tqdm(enumerate(txdel)):\n",
    "    r, _ = pymust.simus(xs,zs,RC,t, param)\n",
    "    RF.append(r)\n"
   ]
  },
  {
   "attachments": {},
   "cell_type": "markdown",
   "metadata": {},
   "source": [
    "This is the 64th RF signal of the 1st series:"
   ]
  },
  {
   "cell_type": "code",
   "execution_count": null,
   "metadata": {},
   "outputs": [],
   "source": [
    "rf = RF[0][:,63]\n",
    "t = np.arange(len(rf))/param.fs*1e6 #% time (ms)\n",
    "plt.plot(t,rf)\n",
    "plt.xlabel('time ($\\mu$s)')\n",
    "plt.title('RF signal of the $64^{th}$ element ($1^{st}$ series, tilt = $-20{\\circ}$)')\n"
   ]
  },
  {
   "attachments": {},
   "cell_type": "markdown",
   "metadata": {},
   "source": [
    "## Demodulate the RF signals with RF2IQ\n",
    "\n",
    "Before beamforming, the RF signals must be I/Q demodulated."
   ]
  },
  {
   "cell_type": "code",
   "execution_count": null,
   "metadata": {},
   "outputs": [],
   "source": [
    "IQ = [] #  % this cell will contain the I/Q series\n",
    "\n",
    "for r in RF:\n",
    "    IQ.append(pymust.rf2iq(r,param.fs,param.fc))\n"
   ]
  },
  {
   "cell_type": "code",
   "execution_count": null,
   "metadata": {},
   "outputs": [],
   "source": [
    "iq = IQ[0][:,63];\n",
    "plt.plot(t,np.real(iq), label = 'in-phase')\n",
    "plt.plot(t,np.imag(iq), label = 'quadrature')\n",
    "plt.xlabel('time (\\mus)')\n",
    "plt.title('I/Q signal of the 64^{th} element (1^{st} series, tilt = -10{\\circ})')\n",
    "plt.legend()\n"
   ]
  },
  {
   "attachments": {},
   "cell_type": "markdown",
   "metadata": {},
   "source": [
    "## Beamform the I/Q signals with DAS\n",
    "\n",
    "It is recommended to use an adequate receive f-number when beamforming. Define a void f-number; it will be determined automatically by DAS from the element directivity."
   ]
  },
  {
   "attachments": {},
   "cell_type": "markdown",
   "metadata": {},
   "source": [
    "Define a 200 $\\times$ 200 4-cm-by-4-cm image grid."
   ]
  },
  {
   "cell_type": "code",
   "execution_count": null,
   "metadata": {},
   "outputs": [],
   "source": [
    "x_extent = np.linspace(-2e-2,2e-2,200)\n",
    "z_extent = np.linspace(0,4e-2,200)\n",
    "xi,zi = np.meshgrid(x_extent, z_extent)"
   ]
  },
  {
   "cell_type": "code",
   "execution_count": null,
   "metadata": {},
   "outputs": [],
   "source": [
    "p = param.copy()\n"
   ]
  },
  {
   "cell_type": "code",
   "execution_count": null,
   "metadata": {},
   "outputs": [],
   "source": [
    "pymust.dasmtx(IQ[k], xi,zi, p)"
   ]
  },
  {
   "cell_type": "code",
   "execution_count": null,
   "metadata": {},
   "outputs": [],
   "source": [
    "bIQ = np.zeros((*xi.shape, len(txdel)), dtype = np.complex64)  #% this array will contain the 21 I/Q images\n",
    "\n",
    "for k, t in enumerate(txdel):\n",
    "    param.TXdelay = t\n",
    "    q = (pymust.dasmtx(IQ[k], xi,zi, param) @ IQ[k].flatten(order = 'F')).reshape(xi.shape,order = 'F')\n",
    "    bIQ[:,:,k] = q\n"
   ]
  },
  {
   "attachments": {},
   "cell_type": "markdown",
   "metadata": {},
   "source": [
    "## Compound ultrasound image\n",
    "\n",
    "An ultrasound image is obtained by log-compressing the amplitude of the beamformed I/Q signals. Have a look at the images obtained when steering at -10 degrees."
   ]
  },
  {
   "cell_type": "code",
   "execution_count": null,
   "metadata": {},
   "outputs": [],
   "source": [
    "I = pymust.bmode(bIQ[:,:,0],40) # log-compressed image\n",
    "plt.imshow(I, cmap = 'gray', extent = [xi[0,0], xi[0,-1], zi[0,0], zi[-1,-1]])\n",
    "plt.title('PW-based echo image with a tilt angle of -10{\\circ}')\n",
    "plt.axis('equal')\n",
    "plt.ylabel('[cm]')\n",
    "plt.colorbar()\n"
   ]
  },
  {
   "attachments": {},
   "cell_type": "markdown",
   "metadata": {},
   "source": [
    "The individual images are of poor quality. Generate a compound image with the series of 21 diverging waves steered at different angles."
   ]
  },
  {
   "cell_type": "code",
   "execution_count": null,
   "metadata": {},
   "outputs": [],
   "source": [
    "cIQ = np.sum(bIQ,2) # this is the compound beamformed I/Q\n",
    "I = pymust.bmode(cIQ,40); #log-compressed image\n",
    "plt.imshow(I, cmap = 'gray', extent = [xi[0,0], xi[0,-1], zi[0,0], zi[-1,-1]])\n",
    "plt.colorbar()\n",
    "#plt.clim(-40,0)\n",
    "plt.axis('equal')\n",
    "plt.ylabel('[cm]')\n",
    "plt.title('Compound PW-based echo image')\n"
   ]
  },
  {
   "cell_type": "markdown",
   "metadata": {},
   "source": [
    "# MKmovie\n",
    "\n",
    "Test creating a movie using the mkmovie function\n",
    "\n",
    "*Note G.Bernardino, TODO:* this is considerably slower than the matlab version. Investigate why"
   ]
  },
  {
   "cell_type": "code",
   "execution_count": null,
   "metadata": {},
   "outputs": [],
   "source": [
    "param.attenuation = 0.0\n",
    "txdel_0 = np.zeros((1,param.Nelements))\n",
    "opt = pymust.utils.Options()\n",
    "opt.plotScatterers = True\n",
    "F,info, param = pymust.mkmovie(xs, zs, RC,txdel_0,param, opt, 'noAttenuation.gif');"
   ]
  },
  {
   "cell_type": "code",
   "execution_count": null,
   "metadata": {},
   "outputs": [],
   "source": [
    "opt"
   ]
  },
  {
   "cell_type": "code",
   "execution_count": null,
   "metadata": {},
   "outputs": [],
   "source": [
    "param.attenuation = 0.5\n",
    "txdel_0 = np.zeros((1,param.Nelements))\n",
    "F,info, param = pymust.mkmovie(xs, zs, RC,txdel_0,param, 'attenuation.gif');"
   ]
  }
 ],
 "metadata": {
  "kernelspec": {
   "display_name": "Python-PyMust",
   "language": "python",
   "name": "python-pymust"
  },
  "language_info": {
   "codemirror_mode": {
    "name": "ipython",
    "version": 3
   },
   "file_extension": ".py",
   "mimetype": "text/x-python",
   "name": "python",
   "nbconvert_exporter": "python",
   "pygments_lexer": "ipython3",
   "version": "3.12.2"
  },
  "orig_nbformat": 4
 },
 "nbformat": 4,
 "nbformat_minor": 2
}
