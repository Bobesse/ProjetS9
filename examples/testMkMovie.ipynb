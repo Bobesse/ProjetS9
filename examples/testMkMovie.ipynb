{
 "cells": [
  {
   "cell_type": "code",
   "execution_count": 63,
   "metadata": {},
   "outputs": [],
   "source": [
    "import pymust, pymust.mkmovie\n",
    "import importlib\n",
    "importlib.reload(pymust.mkmovie)\n",
    "import numpy as np\n",
    "import matplotlib.pyplot as plt"
   ]
  },
  {
   "cell_type": "code",
   "execution_count": 64,
   "metadata": {},
   "outputs": [],
   "source": [
    "param = pymust.getparam('P4-2v');"
   ]
  },
  {
   "cell_type": "code",
   "execution_count": 65,
   "metadata": {},
   "outputs": [],
   "source": [
    "xf = 0e-2\n",
    "zf = 2e-2 # focus position (in m)\n",
    "txdel = pymust.txdelay(xf,zf,param);"
   ]
  },
  {
   "cell_type": "code",
   "execution_count": 66,
   "metadata": {},
   "outputs": [],
   "source": [
    "param.movie = np.array([3, 6, 100])"
   ]
  },
  {
   "cell_type": "code",
   "execution_count": 67,
   "metadata": {},
   "outputs": [],
   "source": [
    "F,info, param = pymust.mkmovie.mkmovie(txdel,param, 'meow.gif');"
   ]
  },
  {
   "cell_type": "code",
   "execution_count": 68,
   "metadata": {},
   "outputs": [
    {
     "ename": "NameError",
     "evalue": "name 'newcmp' is not defined",
     "output_type": "error",
     "traceback": [
      "\u001b[0;31m---------------------------------------------------------------------------\u001b[0m",
      "\u001b[0;31mNameError\u001b[0m                                 Traceback (most recent call last)",
      "Cell \u001b[0;32mIn[68], line 1\u001b[0m\n\u001b[0;32m----> 1\u001b[0m plt\u001b[39m.\u001b[39mimshow(F[\u001b[39m300\u001b[39m]\u001b[39m.\u001b[39mT ,cmap \u001b[39m=\u001b[39m  newcmp)\n\u001b[1;32m      2\u001b[0m plt\u001b[39m.\u001b[39mcolorbar()\n\u001b[1;32m      3\u001b[0m plt\u001b[39m.\u001b[39mclim(\u001b[39m0\u001b[39m, \u001b[39m255\u001b[39m)\n",
      "\u001b[0;31mNameError\u001b[0m: name 'newcmp' is not defined"
     ]
    }
   ],
   "source": [
    "plt.imshow(F[300].T ,cmap =  newcmp)\n",
    "plt.colorbar()\n",
    "plt.clim(0, 255)"
   ]
  },
  {
   "cell_type": "code",
   "execution_count": 9,
   "metadata": {},
   "outputs": [
    {
     "data": {
      "text/plain": [
       "array([[127, 127, 127, ..., 127, 127, 127],\n",
       "       [127, 127, 127, ..., 127, 127, 127],\n",
       "       [127, 127, 127, ..., 127, 127, 127],\n",
       "       ...,\n",
       "       [127, 127, 127, ..., 127, 127, 127],\n",
       "       [127, 127, 127, ..., 127, 127, 127],\n",
       "       [127, 127, 127, ..., 127, 127, 127]], dtype=uint8)"
      ]
     },
     "execution_count": 9,
     "metadata": {},
     "output_type": "execute_result"
    }
   ],
   "source": [
    "F[50]"
   ]
  },
  {
   "cell_type": "code",
   "execution_count": null,
   "metadata": {},
   "outputs": [],
   "source": []
  }
 ],
 "metadata": {
  "kernelspec": {
   "display_name": "pymust",
   "language": "python",
   "name": "python3"
  },
  "language_info": {
   "codemirror_mode": {
    "name": "ipython",
    "version": 3
   },
   "file_extension": ".py",
   "mimetype": "text/x-python",
   "name": "python",
   "nbconvert_exporter": "python",
   "pygments_lexer": "ipython3",
   "version": "3.11.4"
  },
  "orig_nbformat": 4
 },
 "nbformat": 4,
 "nbformat_minor": 2
}
